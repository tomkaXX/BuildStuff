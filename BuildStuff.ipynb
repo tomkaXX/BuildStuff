{
  "cells": [
    {
      "cell_type": "markdown",
      "metadata": {
        "id": "view-in-github",
        "colab_type": "text"
      },
      "source": [
        "<a href=\"https://colab.research.google.com/github/tomkaXX/BuildStuff/blob/main/BuildStuff.ipynb\" target=\"_parent\"><img src=\"https://colab.research.google.com/assets/colab-badge.svg\" alt=\"Open In Colab\"/></a>"
      ]
    },
    {
      "cell_type": "markdown",
      "id": "0",
      "metadata": {
        "id": "0"
      },
      "source": [
        "[![image](https://colab.research.google.com/assets/colab-badge.svg)](https://colab.research.google.com/github/tomkaXX/BuildStuff/blob/main/BuildStuff.ipynb)\n",
        "\n",
        "**Open Source Pipeline to Integrate Drone and Satellite Data**\n",
        "\n",
        "Click the \"Open in Colab\" button above to run this notebook interactively in the cloud.\n",
        "\n",
        "-   Presentation and slides: <https://prezi.com>\n",
        "-   Earth Engine: <https://earthengine.google.com>\n",
        "-   Geemap: <https://geemap.org>\n",
        "-   Leafmap: <https://leafmap.org>\n",
        "-   Data to Science (D2S): <https://ps2.d2s.org>\n",
        "-   D2S Python API: <https://py.d2s.org>\n",
        "\n",
        "## Introduction\n",
        "**Workshop Title: Open Source Framework for UAV and Satellite Data Integration**\n",
        "\n",
        "**Level**: All Levels\n",
        "\n",
        "This workshop introduces participants to an open-source platform, Data to Science, for managing large drone datasets, along with Python tools like Geemap and Leafmap for integrating and analyzing drone and satellite imagery. Attendees will learn to efficiently search, visualize, and analyze geospatial data in Jupyter, even with minimal coding experience, through hands-on examples and interactive exercises.\n",
        "\n",
        "Recent advances in drone technology have revolutionized the remote sensing community by providing means to collect fine spatial and high temporal resolutions at affordable costs. As people are gaining access to increasingly larger volumes of drone and satellite geospatial data products, there is a growing need to extract relevant information from the vast amount of freely available geospatial data. However, the lack of specialized software packages tailored for processing such data makes it challenging to develop transdisciplinary research collaboration around them. This workshop aims to bridge the gap between big geospatial data and research scientists by providing training on an open-source online platform for managing big drone data known as Data to Science. Additionally, attendees will be introduced to powerful Python packages, namely Geemap and Leafmap, designed for the seamless integration and analysis of drone and satellite images in various applications. By participating in this workshop, attendees will acquire the skills necessary to efficiently search, visualize, and analyze geospatial data within a Jupyter environment, even with minimal coding experience. The workshop provides a hands-on learning experience through practical examples and interactive exercises, enabling participants to enhance their proficiency and gain valuable insights into leveraging geospatial data for various research purposes.\n",
        "\n",
        "### Prerequisites\n",
        "\n",
        "Create a free account at D2S to start uploading, managing, and visualizing your drone imagery. Register here: https://ps2.d2s.org/auth/register\n",
        "\n",
        "For accessing maps and satellite data create an account here: https://code.earthengine.google.com/\n",
        "\n",
        " Download [sample data files](https://drive.google.com/drive/folders/1fjakT4R7E1o1wTQA_FMNjdt41Y7BixxU?usp=sharing)  \n",
        "\n",
        " To use geemap and the Earth Engine Python API, you must [register](https://code.earthengine.google.com/register) for an Earth Engine account and follow the instructions to create a Cloud Project.\n",
        "\n",
        " Just follow (Steps 0-3).\n",
        "\n",
        "-   It is recommended that attendees have a basic understanding of Python and Jupyter Notebook.\n",
        "-   Familiarity with the Earth Engine JavaScript API is not required\n",
        "-   Attendees can use Google Colab to follow this short course without installing anything on their computer.\n",
        "\n",
        "### Agenda\n",
        "\n",
        "The main topics to be covered in this workshop include:\n",
        "\n",
        "* Create interactive maps\n",
        "* Visualize drone imagery from D2S\n",
        "* Visualize Earth Engine data\n",
        "* Explore Earth Engine Data Catalogs\n",
        "* Analyze Earth Engine data\n",
        "* Create timelapse animations\n",
        "\n",
        "\n",
        "## Introduction to Earth Engine and geemap\n",
        "\n",
        "Earth Engine is free for [noncommercial and research use](https://earthengine.google.com/noncommercial). For more than a decade, Earth Engine has enabled planetary-scale Earth data science and analysis by nonprofit organizations, research scientists, and other impact users.\n",
        "\n",
        "With the launch of Earth Engine for [commercial use](https://earthengine.google.com/commercial), commercial customers will be charged for Earth Engine services. However, Earth Engine will remain free of charge for noncommercial use and research projects. Nonprofit organizations, academic institutions, educators, news media, Indigenous governments, and government researchers are eligible to use Earth Engine free of charge, just as they have done for over a decade.\n",
        "\n",
        "The geemap Python package is built upon the Earth Engine Python API and open-source mapping libraries. It allows Earth Engine users to interactively manipulate, analyze, and visualize geospatial big data in a Jupyter environment. Since its creation in April 2020, geemap has received over 3,400 GitHub stars and is being used by over 3,000 projects on GitHub.\n",
        "\n",
        "## Google Colab and Earth Engine Python API authentication\n",
        "\n",
        "\n",
        "### Install geemap\n",
        "\n",
        "The geemap package is pre-installed in Google Colab and is updated to the latest minor or major release every few weeks. Some optional dependencies of geemap being used by this notebook are not pre-installed in Colab. Run the following code block to install geemap and some optional dependencies.\n",
        "\n",
        "* **leafmap:** This is another Python package for interactive mapping, similar to geemap, but it focuses on providing a more flexible interface with different map services, including Google Earth Engine and other geospatial data sources.\n",
        "\n",
        "* **d2spy:** This package is used to interact with D2S (Data to Science) data products, often related to satellite data or Earth observation data. It helps in accessing data from various satellite missions like Sentinel, Landsat, or GOES.\n",
        "\n",
        "**\"geemap[workshop]\":**\n",
        "\n",
        "* **geemap:** This is a Python package for geospatial data visualization and analysis. It works with Google Earth Engine (GEE) and provides tools for creating interactive maps.\n",
        "\n",
        "* **[workshop]:** This is an \"extra\" feature of the geemap package. By specifying geemap[workshop], it installs additional dependencies needed for workshop-related functionalities in the geemap package, often used in instructional contexts or tutorials.\n"
      ]
    },
    {
      "cell_type": "code",
      "execution_count": null,
      "id": "1",
      "metadata": {
        "id": "1"
      },
      "outputs": [],
      "source": [
        "%pip install -U \"geemap[workshop]\" leafmap d2spy"
      ]
    },
    {
      "cell_type": "markdown",
      "id": "3",
      "metadata": {
        "id": "3"
      },
      "source": [
        "### Import libraries\n",
        "\n",
        "Import the necessary libraries for this workshop."
      ]
    },
    {
      "cell_type": "code",
      "execution_count": null,
      "id": "4",
      "metadata": {
        "id": "4"
      },
      "outputs": [],
      "source": [
        "import ee\n",
        "import geemap\n",
        "import leafmap"
      ]
    },
    {
      "cell_type": "markdown",
      "id": "5",
      "metadata": {
        "id": "5"
      },
      "source": [
        "### Authenticate and initialize Earth Engine\n",
        "\n",
        "You will need to create a [Google Cloud Project](https://console.cloud.google.com/projectcreate) and enable the [Earth Engine API](https://console.cloud.google.com/apis/api/earthengine.googleapis.com) for the project. You can find detailed instructions [here](https://book.geemap.org/chapters/01_introduction.html#earth-engine-authentication).\n",
        "\n",
        "Login to Earth Engine JavaScript Code Editor at [https://code.earthengine.google.com](https://code.earthengine.google.com) and click on th profile icon at the top right. Remember the project ID listed in the dialog that appears. Uncomment the following code block and replace `YOUR_PROJECT_ID` with your project ID."
      ]
    },
    {
      "cell_type": "code",
      "execution_count": null,
      "id": "6",
      "metadata": {
        "id": "6"
      },
      "outputs": [],
      "source": [
        "# os.environ[\"EE_PROJECT_ID\"] = \"YOUR-PROJECT-ID\""
      ]
    },
    {
      "cell_type": "markdown",
      "id": "7",
      "metadata": {
        "id": "7"
      },
      "source": [
        "Then, run the code block to authenticate and initialize the Earth Engine Python API."
      ]
    },
    {
      "cell_type": "code",
      "execution_count": null,
      "id": "8",
      "metadata": {
        "id": "8"
      },
      "outputs": [],
      "source": [
        "geemap.ee_initialize(project=None)"
      ]
    },
    {
      "cell_type": "markdown",
      "id": "9",
      "metadata": {
        "id": "9"
      },
      "source": [
        "## Creating interactive maps\n",
        "\n",
        "Let's create an interactive map using the `ipyleaflet` plotting backend. The [`geemap.Map`](https://geemap.org/geemap/#geemap.geemap.m) class inherits the [`ipyleaflet.Map`](https://ipyleaflet.readthedocs.io/en/latest/map_and_basemaps/map.html) class. Therefore, you can use the same syntax to create an interactive map as you would with `ipyleaflet.Map`."
      ]
    },
    {
      "cell_type": "code",
      "execution_count": null,
      "id": "10",
      "metadata": {
        "id": "10"
      },
      "outputs": [],
      "source": [
        "m = geemap.Map()"
      ]
    },
    {
      "cell_type": "markdown",
      "id": "11",
      "metadata": {
        "id": "11"
      },
      "source": [
        "To display it in a Jupyter notebook, simply ask for the object representation:"
      ]
    },
    {
      "cell_type": "code",
      "execution_count": null,
      "id": "12",
      "metadata": {
        "id": "12"
      },
      "outputs": [],
      "source": [
        "m"
      ]
    },
    {
      "cell_type": "markdown",
      "id": "13",
      "metadata": {
        "id": "13"
      },
      "source": [
        "To customize the map, you can specify various keyword arguments, such as `center` ([lat, lon]), `zoom`, `width`, and `height`. The default `width` is `100%`, which takes up the entire cell width of the Jupyter notebook. The `height` argument accepts a number or a string. If a number is provided, it represents the height of the map in pixels. If a string is provided, the string must be in the format of a number followed by `px`, e.g., `600px`."
      ]
    },
    {
      "cell_type": "code",
      "execution_count": null,
      "id": "14",
      "metadata": {
        "id": "14"
      },
      "outputs": [],
      "source": [
        "m = geemap.Map(center=[40, -100], zoom=4, height=\"600px\")\n",
        "m"
      ]
    },
    {
      "cell_type": "markdown",
      "id": "15",
      "metadata": {
        "id": "15"
      },
      "source": [
        "To hide a control, set `control_name` to `False`, e.g., `draw_ctrl=False`."
      ]
    },
    {
      "cell_type": "code",
      "execution_count": null,
      "id": "16",
      "metadata": {
        "id": "16"
      },
      "outputs": [],
      "source": [
        "m = geemap.Map(data_ctrl=False, toolbar_ctrl=False, draw_ctrl=False)\n",
        "m"
      ]
    },
    {
      "cell_type": "markdown",
      "id": "17",
      "metadata": {
        "id": "17"
      },
      "source": [
        "### Adding basemaps\n",
        "\n",
        "There are several ways to add basemaps to a map. You can specify the basemap to use in the `basemap` keyword argument when creating the map. Alternatively, you can add basemap layers to the map using the `add_basemap` method. Geemap has hundreds of built-in basemaps available that can be easily added to the map with only one line of code.\n",
        "\n",
        "Create a map by specifying the basemap to use as follows. For example, the `Esri.WorldImagery` basemap represents the Esri world imagery basemap."
      ]
    },
    {
      "cell_type": "code",
      "execution_count": null,
      "id": "18",
      "metadata": {
        "id": "18"
      },
      "outputs": [],
      "source": [
        "m = geemap.Map(basemap=\"Esri.WorldImagery\")\n",
        "m"
      ]
    },
    {
      "cell_type": "markdown",
      "id": "19",
      "metadata": {
        "id": "19"
      },
      "source": [
        "You can add as many basemaps as you like to the map. For example, the following code adds the `OpenTopoMap` basemap to the map above:"
      ]
    },
    {
      "cell_type": "code",
      "execution_count": null,
      "id": "20",
      "metadata": {
        "id": "20"
      },
      "outputs": [],
      "source": [
        "m.add_basemap(\"OpenTopoMap\")"
      ]
    },
    {
      "cell_type": "markdown",
      "id": "21",
      "metadata": {
        "id": "21"
      },
      "source": [
        "You can also add an XYZ tile layer to the map."
      ]
    },
    {
      "cell_type": "code",
      "execution_count": null,
      "id": "22",
      "metadata": {
        "id": "22"
      },
      "outputs": [],
      "source": [
        "basemap_url = \"https://mt1.google.com/vt/lyrs=y&x={x}&y={y}&z={z}\"\n",
        "m.add_tile_layer(basemap_url, name=\"Hybrid\", attribution=\"Google\")"
      ]
    },
    {
      "cell_type": "markdown",
      "id": "23",
      "metadata": {
        "id": "23"
      },
      "source": [
        "You can also change basemaps interactively using the basemap GUI."
      ]
    },
    {
      "cell_type": "code",
      "execution_count": null,
      "id": "24",
      "metadata": {
        "id": "24"
      },
      "outputs": [],
      "source": [
        "m = geemap.Map()\n",
        "m.add(\"basemap_selector\")\n",
        "m"
      ]
    },
    {
      "cell_type": "markdown",
      "id": "25",
      "metadata": {
        "id": "25"
      },
      "source": [
        "## Visualizing Drone Imagery from D2S\n",
        "\n",
        "The Data to Science (D2S) platform (https://ps2.d2s.org) hosts a large collection of drone imagery that can be accessed through the D2S API (https://py.d2s.org). To visualize drone imagery from D2S, you need to [sign up](https://ps2.d2s.org/auth/register) for a free account on the D2S platform and obtain an API key."
      ]
    },
    {
      "cell_type": "markdown",
      "id": "26",
      "metadata": {
        "id": "26"
      },
      "source": [
        "### Login method\n",
        "Login procedure using d2spy Auth module."
      ]
    },
    {
      "cell_type": "code",
      "execution_count": null,
      "id": "27",
      "metadata": {
        "id": "27"
      },
      "outputs": [],
      "source": [
        "from d2spy.auth import Auth\n",
        "from d2spy.workspace import Workspace\n",
        "\n",
        "# Replace with URL to a D2S instance\n",
        "d2s_url = \"https://ps2.d2s.org\"\n",
        "\n",
        "# Login with your email address\n",
        "auth = Auth(d2s_url)\n",
        "auth.login(email=\"type your mail \")"
      ]
    },
    {
      "cell_type": "code",
      "execution_count": null,
      "id": "28",
      "metadata": {
        "id": "28"
      },
      "outputs": [],
      "source": [
        "# Check for API key\n",
        "user = auth.get_current_user()\n",
        "api_key = user.api_access_token\n",
        "if not api_key:\n",
        "    print(\n",
        "        \"No API key. Please request one from the D2S profile page and re-run this cell.\"\n",
        "    )"
      ]
    },
    {
      "cell_type": "markdown",
      "id": "29",
      "metadata": {
        "id": "29"
      },
      "source": [
        "### Import API key"
      ]
    },
    {
      "cell_type": "code",
      "execution_count": null,
      "id": "32",
      "metadata": {
        "id": "32"
      },
      "outputs": [],
      "source": [
        "import os\n",
        "from datetime import date\n",
        "\n",
        "os.environ[\"D2S_API_KEY\"] = api_key"
      ]
    },
    {
      "cell_type": "markdown",
      "id": "33",
      "metadata": {
        "id": "33"
      },
      "source": [
        "## Choosing a project to work with\n",
        "\n",
        "The Workspace `get_projects` method will retrieve a collection of the projects your account can currently access on the D2S instance."
      ]
    },
    {
      "cell_type": "code",
      "execution_count": null,
      "id": "34",
      "metadata": {
        "id": "34"
      },
      "outputs": [],
      "source": [
        "# Workspace session\n",
        "workspace = Workspace(d2s_url, auth.session)\n",
        "\n",
        "# Get list of all your projects\n",
        "projects = workspace.get_projects()\n",
        "projects"
      ]
    },
    {
      "cell_type": "markdown",
      "id": "35",
      "metadata": {
        "id": "35"
      },
      "source": [
        "The `projects` variable is a `ProjectCollection`. The collection can be filtered by either the project descriptions or titles using the methods `filter_by_title` or `filter_by_name`."
      ]
    },
    {
      "cell_type": "code",
      "execution_count": null,
      "id": "36",
      "metadata": {
        "id": "36"
      },
      "outputs": [],
      "source": [
        "# Example of creating new collection of only projects with the keyword \"Test\" in the title\n",
        "filtered_projects = projects.filter_by_title(\"BuildStuff\")\n",
        "print(filtered_projects)"
      ]
    },
    {
      "cell_type": "markdown",
      "id": "37",
      "metadata": {
        "id": "37"
      },
      "source": [
        "Now you can choose a specific project to work with. In this case, the filtered projects returned only one project, so we will use that project."
      ]
    },
    {
      "cell_type": "code",
      "execution_count": null,
      "id": "38",
      "metadata": {
        "id": "38"
      },
      "outputs": [],
      "source": [
        "project = filtered_projects[0]"
      ]
    },
    {
      "cell_type": "markdown",
      "id": "39",
      "metadata": {
        "id": "39"
      },
      "source": [
        "`get_project_boundary` method of the `Project` class will retrieve a GeoJSON object of the project boundary."
      ]
    },
    {
      "cell_type": "code",
      "execution_count": null,
      "id": "40",
      "metadata": {
        "id": "40"
      },
      "outputs": [],
      "source": [
        "# Get project boundary as Python dictionary in GeoJSON structure\n",
        "project_boundary = project.get_project_boundary()\n",
        "print(project_boundary)"
      ]
    },
    {
      "cell_type": "markdown",
      "id": "41",
      "metadata": {
        "id": "41"
      },
      "source": [
        "The `Project` `get_flights` method will retrieve a list of flights associated with the project."
      ]
    },
    {
      "cell_type": "code",
      "execution_count": null,
      "id": "42",
      "metadata": {
        "id": "42"
      },
      "outputs": [],
      "source": [
        "# Get list of all flights for a project\n",
        "flights = project.get_flights()\n",
        "# Print first flight object (if one exists)\n",
        "for flight in flights:\n",
        "    print(flight)"
      ]
    },
    {
      "cell_type": "markdown",
      "id": "43",
      "metadata": {
        "id": "43"
      },
      "source": [
        "The `flights` variable is a `FlightCollection`. The collection can be filtered by the acquisition date using the method `filter_by_date`. This method will return all flights with an acquisition date between the provided start and end dates."
      ]
    },
    {
      "cell_type": "code",
      "execution_count": null,
      "id": "44",
      "metadata": {
        "id": "44"
      },
      "outputs": [],
      "source": [
        "# Example of creating new collection of only flights from Jan 2015 - Dec 2024\n",
        "filtered_flights = flights.filter_by_date(\n",
        "    start_date=date(2015, 1, 1), end_date=date(2024, 12, 31)\n",
        ")\n",
        "for flight in filtered_flights:\n",
        "    print(flight)"
      ]
    },
    {
      "cell_type": "markdown",
      "id": "45",
      "metadata": {
        "id": "45"
      },
      "source": [
        "Now, we can choose a flight from the filtered flight. Let's choose the 2018 flight."
      ]
    },
    {
      "cell_type": "code",
      "execution_count": null,
      "id": "46",
      "metadata": {
        "id": "46"
      },
      "outputs": [],
      "source": [
        "flight = filtered_flights[0]"
      ]
    },
    {
      "cell_type": "markdown",
      "id": "47",
      "metadata": {
        "id": "47"
      },
      "source": [
        "The Flight `get_data_products` method will retrieve a list of data products associated with the flight."
      ]
    },
    {
      "cell_type": "code",
      "execution_count": null,
      "id": "48",
      "metadata": {
        "id": "48"
      },
      "outputs": [],
      "source": [
        "# Get list of data products from a flight\n",
        "data_products = flight.get_data_products()\n",
        "\n",
        "for data_product in data_products:\n",
        "    print(data_product)"
      ]
    },
    {
      "cell_type": "markdown",
      "id": "49",
      "metadata": {
        "id": "49"
      },
      "source": [
        "The `data_products` variable is a `DataProductCollection`. The collection can be filtered by data type using the method `filter_by_data_type`. This method will return all data products that match the requested data type."
      ]
    },
    {
      "cell_type": "code",
      "execution_count": null,
      "id": "50",
      "metadata": {
        "id": "50"
      },
      "outputs": [],
      "source": [
        "# Example of creating new collection of data products with the \"ortho\" data type\n",
        "ortho_data_products = data_products.filter_by_data_type(\"ortho\")\n",
        "print(ortho_data_products)"
      ]
    },
    {
      "cell_type": "markdown",
      "id": "51",
      "metadata": {
        "id": "51"
      },
      "source": [
        "Now we can grab the ortho URL to display it using geemap."
      ]
    },
    {
      "cell_type": "code",
      "execution_count": null,
      "id": "52",
      "metadata": {
        "id": "52"
      },
      "outputs": [],
      "source": [
        "m = geemap.Map()\n",
        "basemap_url = \"https://mt1.google.com/vt/lyrs=y&x={x}&y={y}&z={z}\"\n",
        "m.add_tile_layer(basemap_url, name=\"Google Hybrid\", attribution=\"Google\", shown=False)\n",
        "ortho_data = ortho_data_products[0]\n",
        "ortho_url = ortho_data.url\n",
        "ortho_url = leafmap.d2s_tile(ortho_url)\n",
        "m.add_cog_layer(ortho_url, name=\"RGB Imagery\")\n",
        "m"
      ]
    },
    {
      "cell_type": "markdown",
      "id": "53",
      "metadata": {
        "id": "53"
      },
      "source": [
        "Similarly, you can visualize the Digital Surface Model (DSM) from D2S using the code below."
      ]
    },
    {
      "cell_type": "code",
      "execution_count": null,
      "id": "54",
      "metadata": {
        "id": "54"
      },
      "outputs": [],
      "source": [
        "# Example of creating new collection of data products with the \"dsm\" data type\n",
        "dsm_data_products = data_products.filter_by_data_type(\"dsm\")\n",
        "print(dsm_data_products)"
      ]
    },
    {
      "cell_type": "code",
      "execution_count": null,
      "id": "55",
      "metadata": {
        "id": "55"
      },
      "outputs": [],
      "source": [
        "dsm_data = dsm_data_products[0]\n",
        "dsm_url = dsm_data.url\n",
        "dsm_url = leafmap.d2s_tile(dsm_url)\n",
        "m.add_cog_layer(dsm_url, colormap_name=\"terrain\", name=\"DSM\")"
      ]
    },
    {
      "cell_type": "markdown",
      "id": "56",
      "metadata": {
        "id": "56"
      },
      "source": [
        "Add a colorbar to the map."
      ]
    },
    {
      "cell_type": "code",
      "execution_count": null,
      "id": "57",
      "metadata": {
        "id": "57"
      },
      "outputs": [],
      "source": [
        "vis_params = {\"palette\": \"terrain\", \"min\": 125, \"max\": 250}\n",
        "m.add_colorbar(vis_params, label=\"Elevation (m)\")"
      ]
    },
    {
      "cell_type": "markdown",
      "id": "58",
      "metadata": {
        "id": "58"
      },
      "source": [
        "Add the project boundary to the map."
      ]
    },
    {
      "cell_type": "code",
      "execution_count": null,
      "id": "59",
      "metadata": {
        "id": "59"
      },
      "outputs": [],
      "source": [
        "m.add_geojson(project_boundary, layer_name=\"Test\")"
      ]
    },
    {
      "cell_type": "markdown",
      "id": "62",
      "metadata": {
        "id": "62"
      },
      "source": [
        "Retrieve the Ortho data product for the 2023 flight."
      ]
    },
    {
      "cell_type": "code",
      "execution_count": null,
      "id": "63",
      "metadata": {
        "id": "63"
      },
      "outputs": [],
      "source": [
        "flight_2023 = filtered_flights[1]\n",
        "data_products = flight_2023.get_data_products()\n",
        "ortho_data_products = data_products.filter_by_data_type(\"ortho\")\n",
        "ortho_data = ortho_data_products[0]\n",
        "ortho_url_2123 = ortho_data.url\n",
        "ortho_url_2023 = leafmap.d2s_tile(ortho_url_2123)"
      ]
    },
    {
      "cell_type": "markdown",
      "id": "64",
      "metadata": {
        "id": "64"
      },
      "source": [
        "Create a split map for comparing the 2018 and 2023 ortho images."
      ]
    },
    {
      "cell_type": "code",
      "execution_count": null,
      "id": "65",
      "metadata": {
        "id": "65"
      },
      "outputs": [],
      "source": [
        "from ipyleaflet import TileLayer\n",
        "\n",
        "m = geemap.Map()\n",
        "left_layer = TileLayer(url=geemap.cog_tile(ortho_url), name=\"2018 Ortho\")\n",
        "right_layer = TileLayer(url=geemap.cog_tile(ortho_url_2023), name=\"2023 Ortho\")\n",
        "m.split_map(left_layer, right_layer)\n",
        "m.set_center(-86.9048, 40.4247, 15)\n",
        "m"
      ]
    },
    {
      "cell_type": "markdown",
      "id": "66",
      "metadata": {
        "id": "66"
      },
      "source": [
        "## Using Earth Engine data\n",
        "\n",
        "### Earth Engine data types\n",
        "\n",
        "Earth Engine objects are server-side objects rather than client-side objects, which means that they are not stored locally on your computer. Similar to video streaming services (e.g., YouTube, Netflix, and Hulu), which store videos/movies on their servers, Earth Engine data are stored on the Earth Engine servers. We can stream geospatial data from Earth Engine on-the-fly without having to download the data just like we can watch videos from streaming services using a web browser without having to download the entire video to your computer.\n",
        "\n",
        "-   **Image**: the fundamental raster data type in Earth Engine.\n",
        "-   **ImageCollection**: a stack or time-series of images.\n",
        "-   **Geometry**: the fundamental vector data type in Earth Engine.\n",
        "-   **Feature**: a Geometry with attributes.\n",
        "-   **FeatureCollection**: a set of features.\n",
        "\n",
        "### Image\n",
        "\n",
        "Raster data in Earth Engine are represented as **Image** objects. Images are composed of one or more bands and each band has its own name, data type, scale, mask and projection. Each image has metadata stored as a set of properties.\n",
        "\n",
        "#### Loading Earth Engine images"
      ]
    },
    {
      "cell_type": "code",
      "execution_count": null,
      "id": "67",
      "metadata": {
        "id": "67"
      },
      "outputs": [],
      "source": [
        "image = ee.Image(\"USGS/SRTMGL1_003\")\n",
        "image"
      ]
    },
    {
      "cell_type": "markdown",
      "id": "68",
      "metadata": {
        "id": "68"
      },
      "source": [
        "#### Visualizing Earth Engine images"
      ]
    },
    {
      "cell_type": "code",
      "execution_count": null,
      "id": "69",
      "metadata": {
        "id": "69"
      },
      "outputs": [],
      "source": [
        "m = geemap.Map()\n",
        "image = ee.Image(\"USGS/SRTMGL1_003\")\n",
        "vis_params = {\n",
        "    \"min\": 0,\n",
        "    \"max\": 4000,\n",
        "    \"palette\": [\"006633\", \"E5FFCC\", \"662A00\", \"D8D8D8\", \"F5F5F5\"],  # 'terrain'\n",
        "}\n",
        "m.add_layer(image, vis_params, \"SRTM\")\n",
        "m"
      ]
    },
    {
      "cell_type": "code",
      "execution_count": null,
      "id": "70",
      "metadata": {
        "id": "70"
      },
      "outputs": [],
      "source": [
        "roi = ee.FeatureCollection(geemap.geojson_to_ee(project_boundary))\n",
        "roi"
      ]
    },
    {
      "cell_type": "code",
      "execution_count": null,
      "id": "71",
      "metadata": {
        "id": "71"
      },
      "outputs": [],
      "source": [
        "m.add_layer(roi, {}, \"Test\")\n",
        "m.centerObject(roi, 15)"
      ]
    },
    {
      "cell_type": "code",
      "execution_count": null,
      "id": "72",
      "metadata": {
        "id": "72"
      },
      "outputs": [],
      "source": [
        "hillshade = ee.Terrain.hillshade(image).clipToCollection(roi)\n",
        "m.add_layer(hillshade, {}, \"SRTM Hillshade\")"
      ]
    },
    {
      "cell_type": "markdown",
      "id": "73",
      "metadata": {
        "id": "73"
      },
      "source": [
        "### ImageCollection\n",
        "\n",
        "An `ImageCollection` is a stack or sequence of images. An `ImageCollection` can be loaded by passing an Earth Engine asset ID into the `ImageCollection` constructor. You can find `ImageCollection` IDs in the [Earth Engine Data Catalog](https://developers.google.com/earth-engine/datasets).\n",
        "\n",
        "#### Loading image collections\n",
        "\n",
        "For example, to load the image collection of the [Sentinel-2 surface reflectance](https://developers.google.com/earth-engine/datasets/catalog/COPERNICUS_S2_SR_HARMONIZED):"
      ]
    },
    {
      "cell_type": "code",
      "execution_count": null,
      "id": "74",
      "metadata": {
        "id": "74"
      },
      "outputs": [],
      "source": [
        "collection = ee.ImageCollection(\"COPERNICUS/S2_SR_HARMONIZED\")"
      ]
    },
    {
      "cell_type": "markdown",
      "id": "75",
      "metadata": {
        "id": "75"
      },
      "source": [
        "#### Visualizing image collections\n",
        "\n",
        "To visualize an Earth Engine **ImageCollection**, we need to convert an **ImageCollection** to an **Image** by compositing all the images in the collection to a single image representing, for example, the min, max, median, mean or standard deviation of the images. For example, to create a median value image from a collection, use the `collection.median()` method. Let's create a median image from the Sentinel-2 surface reflectance collection:"
      ]
    },
    {
      "cell_type": "code",
      "execution_count": null,
      "id": "76",
      "metadata": {
        "id": "76"
      },
      "outputs": [],
      "source": [
        "m = geemap.Map()\n",
        "collection = (\n",
        "    ee.ImageCollection(\"COPERNICUS/S2_SR_HARMONIZED\")\n",
        "    .filterDate(\"2023-01-01\", \"2024-08-01\")\n",
        "    .filter(ee.Filter.lt(\"CLOUDY_PIXEL_PERCENTAGE\", 5))\n",
        ")\n",
        "image = collection.median().clipToCollection(roi)\n",
        "\n",
        "vis = {\n",
        "    \"min\": 0.0,\n",
        "    \"max\": 2500,\n",
        "    \"bands\": [\"B4\", \"B3\", \"B2\"],\n",
        "}\n",
        "\n",
        "m.add_layer(image, vis, \"Sentinel-2\")\n",
        "m.centerObject(roi, 15)\n",
        "m"
      ]
    },
    {
      "cell_type": "markdown",
      "id": "77",
      "metadata": {
        "id": "77"
      },
      "source": [
        "### FeatureCollection\n",
        "\n",
        "A **FeatureCollection** is a collection of Features. A FeatureCollection is analogous to a GeoJSON FeatureCollection object, i.e., a collection of features with associated properties/attributes. Data contained in a shapefile can be represented as a FeatureCollection.\n",
        "\n",
        "#### Loading feature collections\n",
        "\n",
        "The [Earth Engine Data Catalog](https://developers.google.com/earth-engine/datasets) hosts a variety of vector datasets (e.g,, US Census data, country boundaries, and more) as feature collections. You can find feature collection IDs by searching the data catalog. For example, to load the [TIGER roads data](https://developers.google.com/earth-engine/datasets/catalog/TIGER_2016_Roads) by the U.S. Census Bureau:"
      ]
    },
    {
      "cell_type": "code",
      "execution_count": null,
      "id": "78",
      "metadata": {
        "id": "78"
      },
      "outputs": [],
      "source": [
        "m = geemap.Map()\n",
        "fc = ee.FeatureCollection(\"TIGER/2016/Roads\").filterBounds(roi)\n",
        "m.add_layer(fc, {}, \"Census roads\")\n",
        "m.centerObject(roi, 15)\n",
        "m"
      ]
    },
    {
      "cell_type": "markdown",
      "id": "79",
      "metadata": {
        "id": "79"
      },
      "source": [
        "#### Filtering feature collections\n",
        "\n",
        "* [geoBoundaries: Political administrative boundaries at Country level (ADM0)](https://developers.google.com/earth-engine/datasets/catalog/WM_geoLab_geoBoundaries_600_ADM0)\n",
        "* [geoBoundaries: Political administrative boundaries at District level (ADM1)](https://developers.google.com/earth-engine/datasets/catalog/WM_geoLab_geoBoundaries_600_ADM1)\n"
      ]
    },
    {
      "cell_type": "code",
      "execution_count": null,
      "id": "80",
      "metadata": {
        "id": "80"
      },
      "outputs": [],
      "source": [
        "m = geemap.Map(center=[40, -100], zoom=4)\n",
        "countries = ee.FeatureCollection(\"WM/geoLab/geoBoundaries/600/ADM0\")\n",
        "fc = countries.filter(ee.Filter.eq(\"shapeName\", \"United States\"))\n",
        "m.add_layer(fc, {}, \"USA\")\n",
        "m"
      ]
    },
    {
      "cell_type": "code",
      "execution_count": null,
      "id": "81",
      "metadata": {
        "id": "81"
      },
      "outputs": [],
      "source": [
        "m = geemap.Map(center=[40, -100], zoom=4)\n",
        "countries = ee.FeatureCollection(\"WM/geoLab/geoBoundaries/600/ADM1\")\n",
        "fc = countries.filter(ee.Filter.eq(\"shapeGroup\", \"USA\"))\n",
        "m.add_layer(fc, {}, \"USA\")\n",
        "m"
      ]
    },
    {
      "cell_type": "markdown",
      "id": "82",
      "metadata": {
        "id": "82"
      },
      "source": [
        "#### Visualizing feature collections"
      ]
    },
    {
      "cell_type": "code",
      "execution_count": null,
      "id": "83",
      "metadata": {
        "id": "83"
      },
      "outputs": [],
      "source": [
        "m = geemap.Map()\n",
        "countries = ee.FeatureCollection(\"WM/geoLab/geoBoundaries/600/ADM1\")\n",
        "fc = countries.filter(ee.Filter.eq(\"shapeGroup\", \"USA\"))\n",
        "style = {\"color\": \"000000ff\", \"width\": 2, \"lineType\": \"solid\", \"fillColor\": \"FF000000\"}\n",
        "m.add_layer(fc.style(**style), {}, \"USA\")\n",
        "m.center_object(fc, 4)\n",
        "m"
      ]
    },
    {
      "cell_type": "code",
      "execution_count": null,
      "id": "84",
      "metadata": {
        "id": "84"
      },
      "outputs": [],
      "source": [
        "m = geemap.Map()\n",
        "countries = ee.FeatureCollection(\"WM/geoLab/geoBoundaries/600/ADM1\")\n",
        "fc = countries.filter(ee.Filter.eq(\"shapeGroup\", \"USA\"))\n",
        "style = {\"color\": \"0000ffff\", \"width\": 2, \"lineType\": \"solid\", \"fillColor\": \"FF000080\"}\n",
        "m.add_layer(fc.style(**style), {}, \"USA\")\n",
        "m.center_object(fc, 4)\n",
        "m"
      ]
    },
    {
      "cell_type": "markdown",
      "id": "85",
      "metadata": {
        "id": "85"
      },
      "source": [
        "### Earth Engine Data Catalog\n",
        "\n",
        "The [Earth Engine Data Catalog](https://developers.google.com/earth-engine/datasets) hosts a variety of geospatial datasets. As of September 2024, the catalog contains over [1,100 datasets](https://github.com/opengeos/Earth-Engine-Catalog/blob/master/gee_catalog.tsv) with a total size of over 100 petabytes. Some notable datasets include: Landsat, Sentinel, MODIS, NAIP, etc. For a complete list of datasets in CSV or JSON formats, see the [Earth Engine Datasets List](https://github.com/giswqs/Earth-Engine-Catalog/blob/master/gee_catalog.tsv).\n",
        "\n",
        "#### Searching for datasets\n",
        "\n",
        "The [Earth Engine Data Catalog](https://developers.google.com/earth-engine/datasets/catalog) is searchable. You can search datasets by name, keyword, or tag. For example, enter \"elevation\" in the search box will filter the catalog to show only datasets containing \"elevation\" in their name, description, or tags. 52 datasets are returned for this search query. Scroll down the list to find the [NASA SRTM Digital Elevation 30m](https://developers.google.com/earth-engine/datasets/catalog/USGS_SRTMGL1_003#description) dataset. On each dataset page, you can find the following information, including Dataset Availability, Dataset Provider, Earth Engine Snippet, Tags, Description, Code Example, and more. One important piece of information is the Image/ImageCollection/FeatureCollection ID of each dataset, which is essential for accessing the dataset through the Earth Engine JavaScript or Python APIs.\n",
        "\n",
        "![](https://i.imgur.com/B3rf4QN.jpg)"
      ]
    },
    {
      "cell_type": "code",
      "execution_count": null,
      "id": "86",
      "metadata": {
        "id": "86"
      },
      "outputs": [],
      "source": [
        "m = geemap.Map()\n",
        "m"
      ]
    },
    {
      "cell_type": "code",
      "execution_count": null,
      "id": "87",
      "metadata": {
        "id": "87"
      },
      "outputs": [],
      "source": [
        "m = geemap.Map()\n",
        "dem = ee.Image(\"USGS/SRTMGL1_003\")\n",
        "vis_params = {\n",
        "    \"min\": 0,\n",
        "    \"max\": 4000,\n",
        "    \"palette\": [\"006633\", \"E5FFCC\", \"662A00\", \"D8D8D8\", \"F5F5F5\"],\n",
        "}\n",
        "m.add_layer(dem, vis_params, \"SRTM DEM\")\n",
        "m"
      ]
    },
    {
      "cell_type": "code",
      "execution_count": null,
      "id": "88",
      "metadata": {
        "id": "88"
      },
      "outputs": [],
      "source": [
        "m = geemap.Map()\n",
        "counties = ee.FeatureCollection(\"WM/geoLab/geoBoundaries/600/ADM0\")\n",
        "fc = counties.filter(ee.Filter.eq(\"shapeName\", \"United States\"))\n",
        "dem = ee.Image(\"USGS/SRTMGL1_003\").clipToCollection(fc)\n",
        "vis_params = {\n",
        "    \"min\": 0,\n",
        "    \"max\": 4000,\n",
        "    \"palette\": [\"006633\", \"E5FFCC\", \"662A00\", \"D8D8D8\", \"F5F5F5\"],\n",
        "}\n",
        "\n",
        "m.add_layer(fc, {}, \"United States\")\n",
        "m.add_layer(dem, vis_params, \"SRTM DEM\")\n",
        "m.center_object(fc, 4)\n",
        "m"
      ]
    },
    {
      "cell_type": "markdown",
      "id": "89",
      "metadata": {
        "id": "89"
      },
      "source": [
        "## Visualizing Earth Engine data\n",
        "\n",
        "### Using the inspector tool\n",
        "\n",
        "Inspect pixel values and vector features using the inspector tool."
      ]
    },
    {
      "cell_type": "code",
      "execution_count": null,
      "id": "90",
      "metadata": {
        "id": "90"
      },
      "outputs": [],
      "source": [
        "m = geemap.Map()\n",
        "\n",
        "countries = ee.FeatureCollection(\"WM/geoLab/geoBoundaries/600/ADM1\")\n",
        "fc = countries.filter(ee.Filter.eq(\"shapeGroup\", \"USA\"))\n",
        "\n",
        "dem = ee.Image(\"USGS/SRTMGL1_003\")\n",
        "landsat7 = ee.Image(\"LANDSAT/LE7_TOA_5YEAR/1999_2003\").select(\n",
        "    [\"B1\", \"B2\", \"B3\", \"B4\", \"B5\", \"B7\"]\n",
        ")\n",
        "\n",
        "vis_params = {\n",
        "    \"min\": 0,\n",
        "    \"max\": 4000,\n",
        "    \"palette\": [\"006633\", \"E5FFCC\", \"662A00\", \"D8D8D8\", \"F5F5F5\"],\n",
        "}\n",
        "\n",
        "m.add_layer(\n",
        "    landsat7,\n",
        "    {\"bands\": [\"B4\", \"B3\", \"B2\"], \"min\": 20, \"max\": 200, \"gamma\": 2.0},\n",
        "    \"Landsat 7\",\n",
        ")\n",
        "m.add_layer(dem, vis_params, \"SRTM DEM\")\n",
        "m.add_layer(fc, {}, \"United States\")\n",
        "m.add(\"inspector\")\n",
        "m.center_object(fc, 4)\n",
        "m"
      ]
    },
    {
      "cell_type": "markdown",
      "id": "91",
      "metadata": {
        "id": "91"
      },
      "source": [
        "### Using the plotting tool\n",
        "\n",
        "Plot spectral profiles of pixels using the plotting tool."
      ]
    },
    {
      "cell_type": "code",
      "execution_count": null,
      "id": "92",
      "metadata": {
        "id": "92"
      },
      "outputs": [],
      "source": [
        "m = geemap.Map(center=[40, -100], zoom=4)\n",
        "\n",
        "landsat7 = ee.Image(\"LANDSAT/LE7_TOA_5YEAR/1999_2003\").select(\n",
        "    [\"B1\", \"B2\", \"B3\", \"B4\", \"B5\", \"B7\"]\n",
        ")\n",
        "\n",
        "landsat_vis = {\"bands\": [\"B4\", \"B3\", \"B2\"], \"gamma\": 1.4}\n",
        "m.add_layer(landsat7, landsat_vis, \"Landsat\")\n",
        "\n",
        "hyperion = ee.ImageCollection(\"EO1/HYPERION\").filter(\n",
        "    ee.Filter.date(\"2016-01-01\", \"2017-03-01\")\n",
        ")\n",
        "\n",
        "hyperion_vis = {\n",
        "    \"min\": 1000.0,\n",
        "    \"max\": 14000.0,\n",
        "    \"gamma\": 2.5,\n",
        "}\n",
        "m.add_layer(hyperion, hyperion_vis, \"Hyperion\")\n",
        "m.add_plot_gui()\n",
        "m.center_object(fc, 4)\n",
        "m"
      ]
    },
    {
      "cell_type": "markdown",
      "id": "93",
      "metadata": {
        "id": "93"
      },
      "source": [
        "Set plotting options for Landsat."
      ]
    },
    {
      "cell_type": "code",
      "execution_count": null,
      "id": "94",
      "metadata": {
        "id": "94"
      },
      "outputs": [],
      "source": [
        "m.set_plot_options(add_marker_cluster=True, overlay=True)"
      ]
    },
    {
      "cell_type": "markdown",
      "id": "95",
      "metadata": {
        "id": "95"
      },
      "source": [
        "Set plotting options for Hyperion."
      ]
    },
    {
      "cell_type": "code",
      "execution_count": null,
      "id": "96",
      "metadata": {
        "id": "96"
      },
      "outputs": [],
      "source": [
        "m.set_plot_options(add_marker_cluster=True, plot_type=\"bar\")"
      ]
    },
    {
      "cell_type": "markdown",
      "id": "97",
      "metadata": {
        "id": "97"
      },
      "source": [
        "### Legends, color bars, and labels\n",
        "\n",
        "#### Built-in legends"
      ]
    },
    {
      "cell_type": "code",
      "execution_count": null,
      "id": "98",
      "metadata": {
        "id": "98"
      },
      "outputs": [],
      "source": [
        "from geemap.legends import builtin_legends"
      ]
    },
    {
      "cell_type": "code",
      "execution_count": null,
      "id": "99",
      "metadata": {
        "id": "99"
      },
      "outputs": [],
      "source": [
        "for legend in builtin_legends:\n",
        "    print(legend)"
      ]
    },
    {
      "cell_type": "markdown",
      "id": "100",
      "metadata": {
        "id": "100"
      },
      "source": [
        "Add ESA WorldCover and legend to the map.\n",
        "\n",
        "https://developers.google.com/earth-engine/datasets/catalog/ESA_WorldCover_v200"
      ]
    },
    {
      "cell_type": "code",
      "execution_count": null,
      "id": "101",
      "metadata": {
        "id": "101"
      },
      "outputs": [],
      "source": [
        "m = geemap.Map()\n",
        "m.add_basemap(\"Esri.WorldImagery\")\n",
        "\n",
        "dataset = ee.ImageCollection(\"ESA/WorldCover/v200\").first()\n",
        "visualization = {\"bands\": [\"Map\"]}\n",
        "m.add_layer(dataset, visualization, \"Landcover\")\n",
        "m.add_layer(fc, {}, \"United States\")\n",
        "m.add_legend(title=\"Land Cover Type\", builtin_legend=\"ESA_WorldCover\")\n",
        "m.center_object(fc, 4)\n",
        "m"
      ]
    },
    {
      "cell_type": "markdown",
      "id": "102",
      "metadata": {
        "id": "102"
      },
      "source": [
        "#### Custom legends"
      ]
    },
    {
      "cell_type": "markdown",
      "id": "103",
      "metadata": {
        "id": "103"
      },
      "source": [
        "Add a custom legend by specifying a dictionary of colors and labels."
      ]
    },
    {
      "cell_type": "code",
      "execution_count": null,
      "id": "104",
      "metadata": {
        "id": "104"
      },
      "outputs": [],
      "source": [
        "m = geemap.Map()\n",
        "m.add_basemap(\"Esri.WorldImagery\")\n",
        "\n",
        "dataset = ee.ImageCollection(\"ESA/WorldCover/v200\").first()\n",
        "visualization = {\"bands\": [\"Map\"]}\n",
        "m.add_layer(dataset, visualization, \"Landcover\")\n",
        "m.add_layer(fc, {}, \"United States\")\n",
        "legend_dict = {\n",
        "    \"10 Trees\": \"006400\",\n",
        "    \"20 Shrubland\": \"ffbb22\",\n",
        "    \"30 Grassland\": \"ffff4c\",\n",
        "    \"40 Cropland\": \"f096ff\",\n",
        "    \"50 Built-up\": \"fa0000\",\n",
        "    \"60 Barren / sparse vegetation\": \"b4b4b4\",\n",
        "    \"70 Snow and ice\": \"f0f0f0\",\n",
        "    \"80 Open water\": \"0064c8\",\n",
        "    \"90 Herbaceous wetland\": \"0096a0\",\n",
        "    \"95 Mangroves\": \"00cf75\",\n",
        "    \"100 Moss and lichen\": \"fae6a0\",\n",
        "}\n",
        "m.add_legend(title=\"Land Cover Type\", legend_dict=legend_dict)\n",
        "m.center_object(fc, 4)\n",
        "m"
      ]
    },
    {
      "cell_type": "markdown",
      "id": "105",
      "metadata": {
        "id": "105"
      },
      "source": [
        "#### Creating color bars\n",
        "\n",
        "Add a horizontal color bar."
      ]
    },
    {
      "cell_type": "code",
      "execution_count": null,
      "id": "106",
      "metadata": {
        "id": "106"
      },
      "outputs": [],
      "source": [
        "m = geemap.Map()\n",
        "countries = ee.FeatureCollection(\"WM/geoLab/geoBoundaries/600/ADM0\")\n",
        "fc = countries.filter(ee.Filter.eq(\"shapeName\", \"United States\"))\n",
        "dem = ee.Image(\"USGS/SRTMGL1_003\").clipToCollection(fc)\n",
        "vis_params = {\n",
        "    \"min\": 0,\n",
        "    \"max\": 4000,\n",
        "    \"palette\": [\"006633\", \"E5FFCC\", \"662A00\", \"D8D8D8\", \"F5F5F5\"],\n",
        "}\n",
        "\n",
        "m.add_layer(dem, vis_params, \"SRTM DEM\")\n",
        "m.add_colorbar(vis_params, label=\"Elevation (m)\", layer_name=\"SRTM DEM\")\n",
        "m.center_object(fc, 4)\n",
        "m"
      ]
    },
    {
      "cell_type": "markdown",
      "id": "107",
      "metadata": {
        "id": "107"
      },
      "source": [
        "Add a vertical color bar."
      ]
    },
    {
      "cell_type": "code",
      "execution_count": null,
      "id": "108",
      "metadata": {
        "id": "108"
      },
      "outputs": [],
      "source": [
        "m.add_colorbar(\n",
        "    vis_params,\n",
        "    label=\"Elevation (m)\",\n",
        "    layer_name=\"SRTM DEM\",\n",
        "    orientation=\"vertical\",\n",
        "    max_width=\"100px\",\n",
        ")"
      ]
    },
    {
      "cell_type": "markdown",
      "id": "109",
      "metadata": {
        "id": "109"
      },
      "source": [
        "Make the color bar background transparent."
      ]
    },
    {
      "cell_type": "code",
      "execution_count": null,
      "id": "110",
      "metadata": {
        "id": "110"
      },
      "outputs": [],
      "source": [
        "m.add_colorbar(\n",
        "    vis_params,\n",
        "    label=\"Elevation (m)\",\n",
        "    layer_name=\"SRTM DEM\",\n",
        "    orientation=\"vertical\",\n",
        "    max_width=\"100px\",\n",
        "    transparent_bg=True,\n",
        ")"
      ]
    },
    {
      "cell_type": "markdown",
      "id": "111",
      "metadata": {
        "id": "111"
      },
      "source": [
        "### Split-panel maps\n",
        "\n",
        "Create a split map with basemaps. Note that ipyleaflet has a bug with the SplitControl. You can't pan the map, which should be resolved in the next ipyleaflet release."
      ]
    },
    {
      "cell_type": "code",
      "execution_count": null,
      "id": "112",
      "metadata": {
        "id": "112"
      },
      "outputs": [],
      "source": [
        "m = geemap.Map()\n",
        "m.split_map(left_layer=\"Esri.WorldTopoMap\", right_layer=\"OpenTopoMap\")\n",
        "m.center_object(roi, 6)\n",
        "m"
      ]
    },
    {
      "cell_type": "markdown",
      "id": "113",
      "metadata": {
        "id": "113"
      },
      "source": [
        "Create a split map with Earth Engine layers."
      ]
    },
    {
      "cell_type": "code",
      "execution_count": null,
      "id": "114",
      "metadata": {
        "id": "114"
      },
      "outputs": [],
      "source": [
        "m = geemap.Map()\n",
        "\n",
        "esa_2020 = ee.ImageCollection(\"ESA/WorldCover/v100\").first()\n",
        "esa_2021 = ee.ImageCollection(\"ESA/WorldCover/v200\").first()\n",
        "visualization = {\"bands\": [\"Map\"]}\n",
        "\n",
        "left_layer = geemap.ee_tile_layer(esa_2020, visualization, \"Land Cover 2020\")\n",
        "right_layer = geemap.ee_tile_layer(esa_2021, visualization, \"Land Cover 2021\")\n",
        "\n",
        "m.split_map(\n",
        "    left_layer, right_layer, left_label=\"Land Cover 2020\", right_label=\"Land Cover 2021\"\n",
        ")\n",
        "m.add_legend(title=\"Land Cover Type\", builtin_legend=\"ESA_WorldCover\")\n",
        "m.center_object(fc, 4)\n",
        "m"
      ]
    },
    {
      "cell_type": "markdown",
      "id": "115",
      "metadata": {
        "id": "115"
      },
      "source": [
        "### Timeseries inspector and time slider\n",
        "\n",
        "#### Timeseries inspector\n",
        "\n",
        "Check the available years of NLCD."
      ]
    },
    {
      "cell_type": "code",
      "execution_count": null,
      "id": "116",
      "metadata": {
        "id": "116"
      },
      "outputs": [],
      "source": [
        "m = geemap.Map(center=[40, -100], zoom=4)\n",
        "collection = ee.ImageCollection(\"USGS/NLCD_RELEASES/2019_REL/NLCD\").select(\"landcover\")\n",
        "vis_params = {\"bands\": [\"landcover\"]}\n",
        "years = collection.aggregate_array(\"system:index\").getInfo()\n",
        "years"
      ]
    },
    {
      "cell_type": "markdown",
      "id": "117",
      "metadata": {
        "id": "117"
      },
      "source": [
        "Create a timeseries inspector for NLCD. Note that ipyleaflet has a bug with the SplitControl. You can't pan the map, which should be resolved in a future ipyleaflet release."
      ]
    },
    {
      "cell_type": "code",
      "execution_count": null,
      "id": "118",
      "metadata": {
        "id": "118"
      },
      "outputs": [],
      "source": [
        "m.ts_inspector(\n",
        "    left_ts=collection,\n",
        "    right_ts=collection,\n",
        "    left_names=years,\n",
        "    right_names=years,\n",
        "    left_vis=vis_params,\n",
        "    right_vis=vis_params,\n",
        "    width=\"80px\",\n",
        ")\n",
        "m"
      ]
    },
    {
      "cell_type": "markdown",
      "id": "119",
      "metadata": {
        "id": "119"
      },
      "source": [
        "Generate the NAIP timeseries."
      ]
    },
    {
      "cell_type": "code",
      "execution_count": null,
      "id": "120",
      "metadata": {
        "id": "120"
      },
      "outputs": [],
      "source": [
        "naip_col = geemap.naip_timeseries(roi, RGBN=True)"
      ]
    },
    {
      "cell_type": "code",
      "execution_count": null,
      "id": "121",
      "metadata": {
        "id": "121"
      },
      "outputs": [],
      "source": [
        "m = geemap.Map()\n",
        "vis_params = {\"bands\": [\"N\", \"R\", \"G\"]}\n",
        "m.ts_inspector(naip_col, left_vis=vis_params, date_format=\"YYYY\", width=\"80px\")\n",
        "m.center_object(roi, 15)\n",
        "m"
      ]
    },
    {
      "cell_type": "markdown",
      "id": "122",
      "metadata": {
        "id": "122"
      },
      "source": [
        "#### Time slider\n",
        "\n",
        "Note that this feature may not work properly with in the Colab environment. Restart Colab runtime if the time slider does not work.\n",
        "\n",
        "Create a map for visualizing MODIS vegetation data."
      ]
    },
    {
      "cell_type": "code",
      "execution_count": null,
      "id": "123",
      "metadata": {
        "id": "123"
      },
      "outputs": [],
      "source": [
        "m = geemap.Map()\n",
        "\n",
        "collection = (\n",
        "    ee.ImageCollection(\"MODIS/MCD43A4_006_NDVI\")\n",
        "    .filter(ee.Filter.date(\"2022-06-01\", \"2022-07-01\"))\n",
        "    .select(\"NDVI\")\n",
        ")\n",
        "vis_params = {\n",
        "    \"min\": 0.0,\n",
        "    \"max\": 1.0,\n",
        "    \"palette\": \"ndvi\",\n",
        "}\n",
        "\n",
        "m.add_time_slider(collection, vis_params, time_interval=2)\n",
        "m._toolbar.toggle_layers(False)\n",
        "m"
      ]
    },
    {
      "cell_type": "markdown",
      "id": "124",
      "metadata": {
        "id": "124"
      },
      "source": [
        "Create a map for visualizing weather data."
      ]
    },
    {
      "cell_type": "code",
      "execution_count": null,
      "id": "125",
      "metadata": {
        "id": "125"
      },
      "outputs": [],
      "source": [
        "m = geemap.Map()\n",
        "\n",
        "collection = (\n",
        "    ee.ImageCollection(\"NOAA/GFS0P25\")\n",
        "    .filterDate(\"2018-12-22\", \"2018-12-23\")\n",
        "    .limit(24)\n",
        "    .select(\"temperature_2m_above_ground\")\n",
        ")\n",
        "\n",
        "vis_params = {\n",
        "    \"min\": -40.0,\n",
        "    \"max\": 35.0,\n",
        "    \"palette\": [\"blue\", \"purple\", \"cyan\", \"green\", \"yellow\", \"red\"],\n",
        "}\n",
        "\n",
        "labels = [str(n).zfill(2) + \":00\" for n in range(0, 24)]\n",
        "m.add_time_slider(collection, vis_params, labels=labels, time_interval=1, opacity=0.8)\n",
        "m._toolbar.toggle_layers(False)\n",
        "m"
      ]
    },
    {
      "cell_type": "markdown",
      "id": "126",
      "metadata": {
        "id": "126"
      },
      "source": [
        "Visualizing Sentinel-2 imagery"
      ]
    },
    {
      "cell_type": "code",
      "execution_count": null,
      "id": "127",
      "metadata": {
        "id": "127"
      },
      "outputs": [],
      "source": [
        "m = geemap.Map()\n",
        "\n",
        "collection = (\n",
        "    ee.ImageCollection(\"COPERNICUS/S2_SR_HARMONIZED\")\n",
        "    .filterBounds(roi)\n",
        "    .filterMetadata(\"CLOUDY_PIXEL_PERCENTAGE\", \"less_than\", 0.5)\n",
        ")\n",
        "\n",
        "vis_params = {\"min\": 0, \"max\": 4000, \"bands\": [\"B8\", \"B4\", \"B3\"]}\n",
        "m.center_object(roi, 14)\n",
        "m.add_time_slider(collection, vis_params, region=roi)\n",
        "m._toolbar.toggle_layers(False)\n",
        "m"
      ]
    },
    {
      "cell_type": "markdown",
      "id": "128",
      "metadata": {
        "id": "128"
      },
      "source": [
        "## Analyzing Earth Engine data\n",
        "\n",
        "### Zonal statistics"
      ]
    },
    {
      "cell_type": "code",
      "execution_count": null,
      "id": "129",
      "metadata": {
        "id": "129"
      },
      "outputs": [],
      "source": [
        "m = geemap.Map(center=[40, -100], zoom=4)\n",
        "\n",
        "# Add NASA SRTM\n",
        "dem = ee.Image(\"USGS/SRTMGL1_003\")\n",
        "dem_vis = {\n",
        "    \"min\": 0,\n",
        "    \"max\": 4000,\n",
        "    \"palette\": [\"006633\", \"E5FFCC\", \"662A00\", \"D8D8D8\", \"F5F5F5\"],\n",
        "}\n",
        "m.add_layer(dem, dem_vis, \"SRTM DEM\")\n",
        "\n",
        "# Add 5-year Landsat TOA composite\n",
        "landsat = ee.Image(\"LANDSAT/LE7_TOA_5YEAR/1999_2003\")\n",
        "landsat_vis = {\"bands\": [\"B4\", \"B3\", \"B2\"], \"gamma\": 1.4}\n",
        "m.add_layer(landsat, landsat_vis, \"Landsat\", False)\n",
        "\n",
        "# Add US Census States\n",
        "fc = ee.FeatureCollection(\"TIGER/2018/States\")\n",
        "style = {\"fillColor\": \"00000000\"}\n",
        "m.add_layer(fc.style(**style), {}, \"US States\")\n",
        "m"
      ]
    },
    {
      "cell_type": "code",
      "execution_count": null,
      "id": "130",
      "metadata": {
        "id": "130"
      },
      "outputs": [],
      "source": [
        "out_dem_stats = \"dem_stats.csv\"\n",
        "geemap.zonal_stats(dem, fc, out_dem_stats, stat_type=\"MEAN\", return_fc=False)"
      ]
    },
    {
      "cell_type": "code",
      "execution_count": null,
      "id": "131",
      "metadata": {
        "id": "131"
      },
      "outputs": [],
      "source": [
        "df = geemap.csv_to_df(out_dem_stats).sort_values(by=[\"mean\"])\n",
        "df.head(10)"
      ]
    },
    {
      "cell_type": "code",
      "execution_count": null,
      "id": "132",
      "metadata": {
        "id": "132"
      },
      "outputs": [],
      "source": [
        "geemap.bar_chart(out_dem_stats, \"STUSPS\", \"mean\", title=\"Mean Elevation (m)\")"
      ]
    },
    {
      "cell_type": "code",
      "execution_count": null,
      "id": "133",
      "metadata": {
        "id": "133"
      },
      "outputs": [],
      "source": [
        "out_landsat_stats = \"landsat_stats.csv\"\n",
        "geemap.zonal_stats(\n",
        "    landsat,\n",
        "    fc,\n",
        "    out_landsat_stats,\n",
        "    stat_type=\"MEAN\",\n",
        "    return_fc=False,\n",
        ")"
      ]
    },
    {
      "cell_type": "code",
      "execution_count": null,
      "id": "134",
      "metadata": {
        "id": "134"
      },
      "outputs": [],
      "source": [
        "df = geemap.csv_to_df(out_landsat_stats)\n",
        "df.head()"
      ]
    },
    {
      "cell_type": "markdown",
      "id": "135",
      "metadata": {
        "id": "135"
      },
      "source": [
        "### Zonal statistics by group"
      ]
    },
    {
      "cell_type": "code",
      "execution_count": null,
      "id": "136",
      "metadata": {
        "id": "136"
      },
      "outputs": [],
      "source": [
        "m = geemap.Map()\n",
        "m.add_basemap(\"Esri.WorldImagery\")\n",
        "fc = ee.FeatureCollection(\"TIGER/2018/States\")\n",
        "dataset = ee.ImageCollection(\"ESA/WorldCover/v200\").first().clipToCollection(fc)\n",
        "visualization = {\"bands\": [\"Map\"]}\n",
        "m.add_layer(dataset, visualization, \"Landcover\")\n",
        "m.add_legend(title=\"Land Cover Type\", builtin_legend=\"ESA_WorldCover\")\n",
        "m.add_layer(fc, {}, \"United States\")\n",
        "m.center_object(fc, 4)\n",
        "m"
      ]
    },
    {
      "cell_type": "code",
      "execution_count": null,
      "id": "137",
      "metadata": {
        "id": "137"
      },
      "outputs": [],
      "source": [
        "m = geemap.Map(center=[40, -100], zoom=4)\n",
        "\n",
        "# Add NLCD data\n",
        "dataset = ee.Image(\"USGS/NLCD_RELEASES/2021_REL/NLCD/2021\")\n",
        "landcover = dataset.select(\"landcover\")\n",
        "m.add_layer(landcover, {}, \"NLCD 2021\")\n",
        "\n",
        "# Add US census states\n",
        "states = ee.FeatureCollection(\"TIGER/2018/States\")\n",
        "style = {\"fillColor\": \"00000000\"}\n",
        "m.add_layer(states.style(**style), {}, \"US States\")\n",
        "\n",
        "# Add NLCD legend\n",
        "m.add_legend(title=\"NLCD Land Cover\", builtin_legend=\"NLCD\")\n",
        "m"
      ]
    },
    {
      "cell_type": "code",
      "execution_count": null,
      "id": "138",
      "metadata": {
        "id": "138"
      },
      "outputs": [],
      "source": [
        "nlcd_stats = \"nlcd_stats.csv\"\n",
        "\n",
        "geemap.zonal_stats_by_group(\n",
        "    landcover,\n",
        "    states,\n",
        "    nlcd_stats,\n",
        "    stat_type=\"SUM\",\n",
        "    denominator=1e6,\n",
        "    decimal_places=2,\n",
        ")"
      ]
    },
    {
      "cell_type": "code",
      "execution_count": null,
      "id": "139",
      "metadata": {
        "id": "139"
      },
      "outputs": [],
      "source": [
        "geemap.csv_to_df(nlcd_stats)"
      ]
    },
    {
      "cell_type": "code",
      "execution_count": null,
      "id": "140",
      "metadata": {
        "id": "140"
      },
      "outputs": [],
      "source": [
        "nlcd_stats = \"nlcd_stats_pct.csv\"\n",
        "\n",
        "geemap.zonal_stats_by_group(\n",
        "    landcover,\n",
        "    states,\n",
        "    nlcd_stats,\n",
        "    stat_type=\"PERCENTAGE\",\n",
        "    denominator=1e6,\n",
        "    decimal_places=2,\n",
        ")"
      ]
    },
    {
      "cell_type": "code",
      "execution_count": null,
      "id": "141",
      "metadata": {
        "id": "141"
      },
      "outputs": [],
      "source": [
        "geemap.csv_to_df(nlcd_stats)"
      ]
    },
    {
      "cell_type": "markdown",
      "id": "142",
      "metadata": {
        "id": "142"
      },
      "source": [
        "## Creating timelapse animations\n",
        "\n",
        "### Landsat timelapse"
      ]
    },
    {
      "cell_type": "code",
      "execution_count": null,
      "id": "143",
      "metadata": {
        "id": "143"
      },
      "outputs": [],
      "source": [
        "m = geemap.Map(center=[40, -100], zoom=4)\n",
        "m.add_basemap(\"Esri.WorldImagery\")\n",
        "m"
      ]
    },
    {
      "cell_type": "code",
      "execution_count": null,
      "id": "144",
      "metadata": {
        "id": "144"
      },
      "outputs": [],
      "source": [
        "roi = m.user_roi\n",
        "if roi is None:\n",
        "    roi = ee.Geometry.BBox(-86.9561, 40.4042, -86.8876, 40.4345)\n",
        "    m.add_layer(roi)\n",
        "    m.center_object(roi)"
      ]
    },
    {
      "cell_type": "markdown",
      "source": [
        "Vilnus overview"
      ],
      "metadata": {
        "id": "oyWQ4uiufxWM"
      },
      "id": "oyWQ4uiufxWM"
    },
    {
      "cell_type": "code",
      "execution_count": null,
      "id": "145",
      "metadata": {
        "id": "145"
      },
      "outputs": [],
      "source": [
        "roi = ee.Geometry.BBox(25.2500, 54.5000, 25.4000, 54.7000)\n",
        "timelapse = geemap.landsat_timelapse(\n",
        "    roi,\n",
        "    out_gif=\"vilnius.gif\",\n",
        "    start_year=1990,\n",
        "    end_year=2022,\n",
        "    start_date=\"01-01\",\n",
        "    end_date=\"12-31\",\n",
        "    bands=[\"SWIR1\", \"NIR\", \"Red\"],\n",
        "    frames_per_second=3,\n",
        "    title=\"Vilnius\",\n",
        ")\n",
        "geemap.show_image(timelapse)\n"
      ]
    },
    {
      "cell_type": "code",
      "execution_count": null,
      "id": "146",
      "metadata": {
        "id": "146"
      },
      "outputs": [],
      "source": [
        "roi = ee.Geometry.BBox(113.8252, 22.1988, 114.0851, 22.3497)\n",
        "timelapse = geemap.landsat_timelapse(\n",
        "    roi,\n",
        "    out_gif=\"hong_kong.gif\",\n",
        "    start_year=1990,\n",
        "    end_year=2022,\n",
        "    start_date=\"01-01\",\n",
        "    end_date=\"12-31\",\n",
        "    bands=[\"SWIR1\", \"NIR\", \"Red\"],\n",
        "    frames_per_second=3,\n",
        "    title=\"Hong Kong\",\n",
        ")\n",
        "geemap.show_image(timelapse)"
      ]
    },
    {
      "cell_type": "markdown",
      "source": [
        "Kyiv"
      ],
      "metadata": {
        "id": "4mcOlXkPfpUH"
      },
      "id": "4mcOlXkPfpUH"
    },
    {
      "cell_type": "code",
      "execution_count": null,
      "id": "147",
      "metadata": {
        "id": "147"
      },
      "outputs": [],
      "source": [
        "roi = ee.Geometry.BBox(30.3700, 50.2500, 30.6700, 50.5500)\n",
        "timelapse = geemap.landsat_timelapse(\n",
        "    roi,\n",
        "    out_gif=\"kyiv.gif\",\n",
        "    start_year=1990,\n",
        "    end_year=2022,\n",
        "    start_date=\"01-01\",\n",
        "    end_date=\"12-31\",\n",
        "    bands=[\"SWIR1\", \"NIR\", \"Red\"],\n",
        "    frames_per_second=3,\n",
        "    title=\"Kyiv\",\n",
        ")\n",
        "geemap.show_image(timelapse)\n"
      ]
    },
    {
      "cell_type": "markdown",
      "id": "148",
      "metadata": {
        "id": "148"
      },
      "source": [
        "### Sentinel-2 timelapse"
      ]
    },
    {
      "cell_type": "code",
      "execution_count": null,
      "id": "149",
      "metadata": {
        "id": "149"
      },
      "outputs": [],
      "source": [
        "m = geemap.Map(center=[-0.4315, -76.5748], zoom=13)\n",
        "m"
      ]
    },
    {
      "cell_type": "code",
      "execution_count": null,
      "id": "150",
      "metadata": {
        "id": "150"
      },
      "outputs": [],
      "source": [
        "roi = m.user_roi\n",
        "if roi is None:\n",
        "    roi = ee.Geometry.BBox(-86.9561, 40.4042, -86.8876, 40.4345)\n",
        "    m.add_layer(roi)\n",
        "    m.center_object(roi)"
      ]
    },
    {
      "cell_type": "code",
      "execution_count": null,
      "id": "151",
      "metadata": {
        "id": "151"
      },
      "outputs": [],
      "source": [
        "timelapse = geemap.sentinel2_timelapse(\n",
        "    roi,\n",
        "    out_gif=\"sentinel2.gif\",\n",
        "    start_year=2017,\n",
        "    end_year=2024,\n",
        "    start_date=\"01-01\",\n",
        "    end_date=\"12-31\",\n",
        "    frequency=\"year\",\n",
        "    bands=[\"SWIR1\", \"NIR\", \"Red\"],\n",
        "    frames_per_second=3,\n",
        "    title=\"Sentinel-2 Timelapse\",\n",
        ")\n",
        "geemap.show_image(timelapse)"
      ]
    },
    {
      "cell_type": "markdown",
      "id": "152",
      "metadata": {
        "id": "152"
      },
      "source": [
        "### MODIS vegetation indices"
      ]
    },
    {
      "cell_type": "code",
      "execution_count": null,
      "id": "153",
      "metadata": {
        "id": "153"
      },
      "outputs": [],
      "source": [
        "Map = geemap.Map()\n",
        "Map"
      ]
    },
    {
      "cell_type": "code",
      "execution_count": null,
      "id": "154",
      "metadata": {
        "id": "154"
      },
      "outputs": [],
      "source": [
        "roi = Map.user_roi\n",
        "if roi is None:\n",
        "    roi = ee.Geometry.BBox(-18.6983, -36.1630, 52.2293, 38.1446)\n",
        "    Map.addLayer(roi)\n",
        "    Map.centerObject(roi)"
      ]
    },
    {
      "cell_type": "code",
      "execution_count": null,
      "id": "155",
      "metadata": {
        "id": "155"
      },
      "outputs": [],
      "source": [
        "timelapse = geemap.modis_ndvi_timelapse(\n",
        "    roi,\n",
        "    out_gif=\"ndvi.gif\",\n",
        "    data=\"Terra\",\n",
        "    band=\"NDVI\",\n",
        "    start_date=\"2000-01-01\",\n",
        "    end_date=\"2022-12-31\",\n",
        "    frames_per_second=3,\n",
        "    title=\"MODIS NDVI Timelapse\",\n",
        "    overlay_data=\"countries\",\n",
        ")\n",
        "geemap.show_image(timelapse)"
      ]
    },
    {
      "cell_type": "markdown",
      "id": "156",
      "metadata": {
        "id": "156"
      },
      "source": [
        "### GOES timelapse\n",
        "\n",
        "\n",
        "A GOES timelapse is a time-lapse video created using sequential images captured by the Geostationary Operational Environmental Satellites (GOES), which are operated by NOAA (the National Oceanic and Atmospheric Administration). These satellites continuously monitor weather, climate, and environmental changes over large regions, primarily over North and South America, in near real-time\n",
        "\n",
        "This code snippet sets up parameters to retrieve GOES-17 satellite imagery over a specific region and time period:\n",
        "\n",
        "* **roi:** Defines a rectangular area of interest (region of interest) using\n",
        " bounding box coordinates with longitude and latitude limits.\n",
        "\n",
        "* **start_date and end_date:** Specify the time range for the data\n",
        "\n",
        "* **data:** Indicates that the satellite source is GOES-17.\n",
        "\n",
        "* **scan:** Specifies the scan type, here as \"full_disk\", meaning the satellite captures the entire hemisphere visible from its position.\n",
        "\n",
        "This setup is commonly used in Earth Engine scripts to request satellite data over a specific area and timeframe."
      ]
    },
    {
      "cell_type": "code",
      "execution_count": null,
      "id": "157",
      "metadata": {
        "id": "157"
      },
      "outputs": [],
      "source": [
        "#roi = ee.Geometry.BBox(167.1898, -28.5757, 202.6258, -12.4411)\n",
        "# Define region of interest (ROI) for Ukraine\n",
        "roi = ee.Geometry.BBox(22.0, 44.0, 40.2, 52.4)\n",
        "\n",
        "start_date = \"2022-01-15T03:00:00\"\n",
        "end_date = \"2022-01-15T07:00:00\"\n",
        "data = \"GOES-17\"\n",
        "scan = \"full_disk\""
      ]
    },
    {
      "cell_type": "markdown",
      "source": [
        "This code generates and displays a timelapse GIF of GOES-17 satellite imagery over a specified region and time range:"
      ],
      "metadata": {
        "id": "XUCkb86k3W8Q"
      },
      "id": "XUCkb86k3W8Q"
    },
    {
      "cell_type": "code",
      "execution_count": null,
      "id": "158",
      "metadata": {
        "id": "158"
      },
      "outputs": [],
      "source": [
        "timelapse = geemap.goes_timelapse(\n",
        "    roi, \"goes.gif\", start_date, end_date, data, scan, framesPerSecond=5\n",
        ")\n",
        "geemap.show_image(timelapse)"
      ]
    },
    {
      "cell_type": "code",
      "execution_count": null,
      "id": "159",
      "metadata": {
        "id": "159"
      },
      "outputs": [],
      "source": [
        "roi = ee.Geometry.BBox(-159.5954, 24.5178, -114.2438, 60.4088)\n",
        "start_date = \"2021-10-24T14:00:00\"\n",
        "end_date = \"2021-10-25T01:00:00\"\n",
        "data = \"GOES-17\"\n",
        "scan = \"full_disk\""
      ]
    },
    {
      "cell_type": "code",
      "execution_count": null,
      "id": "160",
      "metadata": {
        "id": "160"
      },
      "outputs": [],
      "source": [
        "timelapse = geemap.goes_timelapse(\n",
        "    roi, \"hurricane.gif\", start_date, end_date, data, scan, framesPerSecond=5\n",
        ")\n",
        "geemap.show_image(timelapse)"
      ]
    },
    {
      "cell_type": "code",
      "execution_count": null,
      "id": "161",
      "metadata": {
        "id": "161"
      },
      "outputs": [],
      "source": [
        "roi = ee.Geometry.BBox(-121.0034, 36.8488, -117.9052, 39.0490)\n",
        "start_date = \"2020-09-05T15:00:00\"\n",
        "end_date = \"2020-09-06T02:00:00\"\n",
        "data = \"GOES-17\"\n",
        "scan = \"full_disk\""
      ]
    },
    {
      "cell_type": "code",
      "execution_count": null,
      "id": "162",
      "metadata": {
        "id": "162"
      },
      "outputs": [],
      "source": [
        "timelapse = geemap.goes_fire_timelapse(\n",
        "    roi, \"fire.gif\", start_date, end_date, data, scan, framesPerSecond=5\n",
        ")\n",
        "geemap.show_image(timelapse)"
      ]
    },
    {
      "cell_type": "markdown",
      "id": "163",
      "metadata": {
        "id": "163"
      },
      "source": [
        "### Exercise - Creating timelapse animations\n",
        "\n",
        "Use the geemap timelapse GUI to create a timelapse animation for any location of your choice. Share the timelapse on social media and use the hashtag such as #EarthEngine and #geemap. See [this](https://i.imgur.com/YaCHvKC.gif) example.\n",
        "\n",
        "![](https://i.imgur.com/ohrXeFC.png)"
      ]
    },
    {
      "cell_type": "code",
      "execution_count": null,
      "id": "164",
      "metadata": {
        "id": "164"
      },
      "outputs": [],
      "source": [
        "m = geemap.Map()\n",
        "m.add_gui(\"timelapse\")\n",
        "m"
      ]
    }
  ],
  "metadata": {
    "colab": {
      "provenance": [],
      "include_colab_link": true
    },
    "kernelspec": {
      "display_name": "Python 3 (ipykernel)",
      "language": "python",
      "name": "python3"
    },
    "language_info": {
      "codemirror_mode": {
        "name": "ipython",
        "version": 3
      },
      "file_extension": ".py",
      "mimetype": "text/x-python",
      "name": "python",
      "nbconvert_exporter": "python",
      "pygments_lexer": "ipython3",
      "version": "3.11.8"
    }
  },
  "nbformat": 4,
  "nbformat_minor": 5
}